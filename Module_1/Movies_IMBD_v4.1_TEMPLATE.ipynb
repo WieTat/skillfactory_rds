{
 "cells": [
  {
   "cell_type": "code",
   "execution_count": 1,
   "metadata": {
    "_cell_guid": "b1076dfc-b9ad-4769-8c92-a6c4dae69d19",
    "_uuid": "8f2839f25d086af736a60e9eeb907d3b93b6e0e5",
    "colab": {},
    "colab_type": "code",
    "id": "U2D2gTdJVp90"
   },
   "outputs": [],
   "source": [
    "import numpy as np\n",
    "import pandas as pd\n",
    "import seaborn as sns\n",
    "import matplotlib.pyplot as plt\n",
    "from collections import Counter"
   ]
  },
  {
   "cell_type": "code",
   "execution_count": 3,
   "metadata": {
    "_cell_guid": "79c7e3d0-c299-4dcb-8224-4455121ee9b0",
    "_uuid": "d629ff2d2480ee46fbb7e2d37f6b5fab8052498a",
    "colab": {},
    "colab_type": "code",
    "id": "oyGfxL3eVp9-",
    "scrolled": false
   },
   "outputs": [
    {
     "data": {
      "text/html": [
       "<div>\n",
       "<style scoped>\n",
       "    .dataframe tbody tr th:only-of-type {\n",
       "        vertical-align: middle;\n",
       "    }\n",
       "\n",
       "    .dataframe tbody tr th {\n",
       "        vertical-align: top;\n",
       "    }\n",
       "\n",
       "    .dataframe thead th {\n",
       "        text-align: right;\n",
       "    }\n",
       "</style>\n",
       "<table border=\"1\" class=\"dataframe\">\n",
       "  <thead>\n",
       "    <tr style=\"text-align: right;\">\n",
       "      <th></th>\n",
       "      <th>imdb_id</th>\n",
       "      <th>budget</th>\n",
       "      <th>revenue</th>\n",
       "      <th>original_title</th>\n",
       "      <th>cast</th>\n",
       "      <th>director</th>\n",
       "      <th>tagline</th>\n",
       "      <th>overview</th>\n",
       "      <th>runtime</th>\n",
       "      <th>genres</th>\n",
       "      <th>production_companies</th>\n",
       "      <th>release_date</th>\n",
       "      <th>vote_average</th>\n",
       "      <th>release_year</th>\n",
       "    </tr>\n",
       "  </thead>\n",
       "  <tbody>\n",
       "    <tr>\n",
       "      <th>0</th>\n",
       "      <td>tt0369610</td>\n",
       "      <td>150000000</td>\n",
       "      <td>1513528810</td>\n",
       "      <td>Jurassic World</td>\n",
       "      <td>Chris Pratt|Bryce Dallas Howard|Irrfan Khan|Vi...</td>\n",
       "      <td>Colin Trevorrow</td>\n",
       "      <td>The park is open.</td>\n",
       "      <td>Twenty-two years after the events of Jurassic ...</td>\n",
       "      <td>124</td>\n",
       "      <td>Action|Adventure|Science Fiction|Thriller</td>\n",
       "      <td>Universal Studios|Amblin Entertainment|Legenda...</td>\n",
       "      <td>6/9/2015</td>\n",
       "      <td>6.5</td>\n",
       "      <td>2015</td>\n",
       "    </tr>\n",
       "    <tr>\n",
       "      <th>1</th>\n",
       "      <td>tt1392190</td>\n",
       "      <td>150000000</td>\n",
       "      <td>378436354</td>\n",
       "      <td>Mad Max: Fury Road</td>\n",
       "      <td>Tom Hardy|Charlize Theron|Hugh Keays-Byrne|Nic...</td>\n",
       "      <td>George Miller</td>\n",
       "      <td>What a Lovely Day.</td>\n",
       "      <td>An apocalyptic story set in the furthest reach...</td>\n",
       "      <td>120</td>\n",
       "      <td>Action|Adventure|Science Fiction|Thriller</td>\n",
       "      <td>Village Roadshow Pictures|Kennedy Miller Produ...</td>\n",
       "      <td>5/13/2015</td>\n",
       "      <td>7.1</td>\n",
       "      <td>2015</td>\n",
       "    </tr>\n",
       "    <tr>\n",
       "      <th>2</th>\n",
       "      <td>tt2908446</td>\n",
       "      <td>110000000</td>\n",
       "      <td>295238201</td>\n",
       "      <td>Insurgent</td>\n",
       "      <td>Shailene Woodley|Theo James|Kate Winslet|Ansel...</td>\n",
       "      <td>Robert Schwentke</td>\n",
       "      <td>One Choice Can Destroy You</td>\n",
       "      <td>Beatrice Prior must confront her inner demons ...</td>\n",
       "      <td>119</td>\n",
       "      <td>Adventure|Science Fiction|Thriller</td>\n",
       "      <td>Summit Entertainment|Mandeville Films|Red Wago...</td>\n",
       "      <td>3/18/2015</td>\n",
       "      <td>6.3</td>\n",
       "      <td>2015</td>\n",
       "    </tr>\n",
       "    <tr>\n",
       "      <th>3</th>\n",
       "      <td>tt2488496</td>\n",
       "      <td>200000000</td>\n",
       "      <td>2068178225</td>\n",
       "      <td>Star Wars: The Force Awakens</td>\n",
       "      <td>Harrison Ford|Mark Hamill|Carrie Fisher|Adam D...</td>\n",
       "      <td>J.J. Abrams</td>\n",
       "      <td>Every generation has a story.</td>\n",
       "      <td>Thirty years after defeating the Galactic Empi...</td>\n",
       "      <td>136</td>\n",
       "      <td>Action|Adventure|Science Fiction|Fantasy</td>\n",
       "      <td>Lucasfilm|Truenorth Productions|Bad Robot</td>\n",
       "      <td>12/15/2015</td>\n",
       "      <td>7.5</td>\n",
       "      <td>2015</td>\n",
       "    </tr>\n",
       "    <tr>\n",
       "      <th>4</th>\n",
       "      <td>tt2820852</td>\n",
       "      <td>190000000</td>\n",
       "      <td>1506249360</td>\n",
       "      <td>Furious 7</td>\n",
       "      <td>Vin Diesel|Paul Walker|Jason Statham|Michelle ...</td>\n",
       "      <td>James Wan</td>\n",
       "      <td>Vengeance Hits Home</td>\n",
       "      <td>Deckard Shaw seeks revenge against Dominic Tor...</td>\n",
       "      <td>137</td>\n",
       "      <td>Action|Crime|Thriller</td>\n",
       "      <td>Universal Pictures|Original Film|Media Rights ...</td>\n",
       "      <td>4/1/2015</td>\n",
       "      <td>7.3</td>\n",
       "      <td>2015</td>\n",
       "    </tr>\n",
       "  </tbody>\n",
       "</table>\n",
       "</div>"
      ],
      "text/plain": [
       "     imdb_id     budget     revenue                original_title  \\\n",
       "0  tt0369610  150000000  1513528810                Jurassic World   \n",
       "1  tt1392190  150000000   378436354            Mad Max: Fury Road   \n",
       "2  tt2908446  110000000   295238201                     Insurgent   \n",
       "3  tt2488496  200000000  2068178225  Star Wars: The Force Awakens   \n",
       "4  tt2820852  190000000  1506249360                     Furious 7   \n",
       "\n",
       "                                                cast          director  \\\n",
       "0  Chris Pratt|Bryce Dallas Howard|Irrfan Khan|Vi...   Colin Trevorrow   \n",
       "1  Tom Hardy|Charlize Theron|Hugh Keays-Byrne|Nic...     George Miller   \n",
       "2  Shailene Woodley|Theo James|Kate Winslet|Ansel...  Robert Schwentke   \n",
       "3  Harrison Ford|Mark Hamill|Carrie Fisher|Adam D...       J.J. Abrams   \n",
       "4  Vin Diesel|Paul Walker|Jason Statham|Michelle ...         James Wan   \n",
       "\n",
       "                         tagline  \\\n",
       "0              The park is open.   \n",
       "1             What a Lovely Day.   \n",
       "2     One Choice Can Destroy You   \n",
       "3  Every generation has a story.   \n",
       "4            Vengeance Hits Home   \n",
       "\n",
       "                                            overview  runtime  \\\n",
       "0  Twenty-two years after the events of Jurassic ...      124   \n",
       "1  An apocalyptic story set in the furthest reach...      120   \n",
       "2  Beatrice Prior must confront her inner demons ...      119   \n",
       "3  Thirty years after defeating the Galactic Empi...      136   \n",
       "4  Deckard Shaw seeks revenge against Dominic Tor...      137   \n",
       "\n",
       "                                      genres  \\\n",
       "0  Action|Adventure|Science Fiction|Thriller   \n",
       "1  Action|Adventure|Science Fiction|Thriller   \n",
       "2         Adventure|Science Fiction|Thriller   \n",
       "3   Action|Adventure|Science Fiction|Fantasy   \n",
       "4                      Action|Crime|Thriller   \n",
       "\n",
       "                                production_companies release_date  \\\n",
       "0  Universal Studios|Amblin Entertainment|Legenda...     6/9/2015   \n",
       "1  Village Roadshow Pictures|Kennedy Miller Produ...    5/13/2015   \n",
       "2  Summit Entertainment|Mandeville Films|Red Wago...    3/18/2015   \n",
       "3          Lucasfilm|Truenorth Productions|Bad Robot   12/15/2015   \n",
       "4  Universal Pictures|Original Film|Media Rights ...     4/1/2015   \n",
       "\n",
       "   vote_average  release_year  \n",
       "0           6.5          2015  \n",
       "1           7.1          2015  \n",
       "2           6.3          2015  \n",
       "3           7.5          2015  \n",
       "4           7.3          2015  "
      ]
     },
     "execution_count": 3,
     "metadata": {},
     "output_type": "execute_result"
    }
   ],
   "source": [
    "data = pd.read_csv('movie_bd_v5.csv')\n",
    "data.head(5)"
   ]
  },
  {
   "cell_type": "code",
   "execution_count": 4,
   "metadata": {
    "colab": {},
    "colab_type": "code",
    "id": "CoYUnagMVp-C"
   },
   "outputs": [
    {
     "data": {
      "text/html": [
       "<div>\n",
       "<style scoped>\n",
       "    .dataframe tbody tr th:only-of-type {\n",
       "        vertical-align: middle;\n",
       "    }\n",
       "\n",
       "    .dataframe tbody tr th {\n",
       "        vertical-align: top;\n",
       "    }\n",
       "\n",
       "    .dataframe thead th {\n",
       "        text-align: right;\n",
       "    }\n",
       "</style>\n",
       "<table border=\"1\" class=\"dataframe\">\n",
       "  <thead>\n",
       "    <tr style=\"text-align: right;\">\n",
       "      <th></th>\n",
       "      <th>budget</th>\n",
       "      <th>revenue</th>\n",
       "      <th>runtime</th>\n",
       "      <th>vote_average</th>\n",
       "      <th>release_year</th>\n",
       "    </tr>\n",
       "  </thead>\n",
       "  <tbody>\n",
       "    <tr>\n",
       "      <th>count</th>\n",
       "      <td>1.889000e+03</td>\n",
       "      <td>1.889000e+03</td>\n",
       "      <td>1889.000000</td>\n",
       "      <td>1889.000000</td>\n",
       "      <td>1889.000000</td>\n",
       "    </tr>\n",
       "    <tr>\n",
       "      <th>mean</th>\n",
       "      <td>5.431083e+07</td>\n",
       "      <td>1.553653e+08</td>\n",
       "      <td>109.658549</td>\n",
       "      <td>6.140762</td>\n",
       "      <td>2007.860773</td>\n",
       "    </tr>\n",
       "    <tr>\n",
       "      <th>std</th>\n",
       "      <td>4.858721e+07</td>\n",
       "      <td>2.146698e+08</td>\n",
       "      <td>18.017041</td>\n",
       "      <td>0.764763</td>\n",
       "      <td>4.468841</td>\n",
       "    </tr>\n",
       "    <tr>\n",
       "      <th>min</th>\n",
       "      <td>5.000000e+06</td>\n",
       "      <td>2.033165e+06</td>\n",
       "      <td>63.000000</td>\n",
       "      <td>3.300000</td>\n",
       "      <td>2000.000000</td>\n",
       "    </tr>\n",
       "    <tr>\n",
       "      <th>25%</th>\n",
       "      <td>2.000000e+07</td>\n",
       "      <td>3.456058e+07</td>\n",
       "      <td>97.000000</td>\n",
       "      <td>5.600000</td>\n",
       "      <td>2004.000000</td>\n",
       "    </tr>\n",
       "    <tr>\n",
       "      <th>50%</th>\n",
       "      <td>3.800000e+07</td>\n",
       "      <td>8.361541e+07</td>\n",
       "      <td>107.000000</td>\n",
       "      <td>6.100000</td>\n",
       "      <td>2008.000000</td>\n",
       "    </tr>\n",
       "    <tr>\n",
       "      <th>75%</th>\n",
       "      <td>7.200000e+07</td>\n",
       "      <td>1.782626e+08</td>\n",
       "      <td>120.000000</td>\n",
       "      <td>6.600000</td>\n",
       "      <td>2012.000000</td>\n",
       "    </tr>\n",
       "    <tr>\n",
       "      <th>max</th>\n",
       "      <td>3.800000e+08</td>\n",
       "      <td>2.781506e+09</td>\n",
       "      <td>214.000000</td>\n",
       "      <td>8.100000</td>\n",
       "      <td>2015.000000</td>\n",
       "    </tr>\n",
       "  </tbody>\n",
       "</table>\n",
       "</div>"
      ],
      "text/plain": [
       "             budget       revenue      runtime  vote_average  release_year\n",
       "count  1.889000e+03  1.889000e+03  1889.000000   1889.000000   1889.000000\n",
       "mean   5.431083e+07  1.553653e+08   109.658549      6.140762   2007.860773\n",
       "std    4.858721e+07  2.146698e+08    18.017041      0.764763      4.468841\n",
       "min    5.000000e+06  2.033165e+06    63.000000      3.300000   2000.000000\n",
       "25%    2.000000e+07  3.456058e+07    97.000000      5.600000   2004.000000\n",
       "50%    3.800000e+07  8.361541e+07   107.000000      6.100000   2008.000000\n",
       "75%    7.200000e+07  1.782626e+08   120.000000      6.600000   2012.000000\n",
       "max    3.800000e+08  2.781506e+09   214.000000      8.100000   2015.000000"
      ]
     },
     "execution_count": 4,
     "metadata": {},
     "output_type": "execute_result"
    }
   ],
   "source": [
    "data.describe()"
   ]
  },
  {
   "cell_type": "markdown",
   "metadata": {
    "colab_type": "text",
    "id": "DTIt7ezGVp-G"
   },
   "source": [
    "# Предобработка"
   ]
  },
  {
   "cell_type": "code",
   "execution_count": 216,
   "metadata": {
    "colab": {},
    "colab_type": "code",
    "id": "jNb40DwKVp-H"
   },
   "outputs": [
    {
     "ename": "NameError",
     "evalue": "name 'answer' is not defined",
     "output_type": "error",
     "traceback": [
      "\u001b[1;31m---------------------------------------------------------------------------\u001b[0m",
      "\u001b[1;31mNameError\u001b[0m                                 Traceback (most recent call last)",
      "\u001b[1;32m<ipython-input-216-930121453a0a>\u001b[0m in \u001b[0;36m<module>\u001b[1;34m()\u001b[0m\n\u001b[0;32m      3\u001b[0m \u001b[1;31m#см. комментарии в коде\u001b[0m\u001b[1;33m\u001b[0m\u001b[1;33m\u001b[0m\u001b[0m\n\u001b[0;32m      4\u001b[0m \u001b[1;33m\u001b[0m\u001b[0m\n\u001b[1;32m----> 5\u001b[1;33m \u001b[0mdisplay\u001b[0m\u001b[1;33m(\u001b[0m\u001b[0manswer\u001b[0m\u001b[1;33m[\u001b[0m\u001b[1;34m'0'\u001b[0m\u001b[1;33m]\u001b[0m\u001b[1;33m)\u001b[0m\u001b[1;33m\u001b[0m\u001b[0m\n\u001b[0m",
      "\u001b[1;31mNameError\u001b[0m: name 'answer' is not defined"
     ]
    }
   ],
   "source": [
    "answers = {} # создадим словарь для ответов\n",
    "#я понимаю, что лучше все, что используется не один раз лучше вынести сюда, но мне этот не совсем удобно, \n",
    "#см. комментарии в коде\n",
    "\n",
    "display(answer['0'])"
   ]
  },
  {
   "cell_type": "markdown",
   "metadata": {
    "colab_type": "text",
    "id": "YxZaH-nPVp-L"
   },
   "source": [
    "# 1. У какого фильма из списка самый большой бюджет?"
   ]
  },
  {
   "cell_type": "markdown",
   "metadata": {
    "colab_type": "text",
    "id": "Nd-G5gX6Vp-M"
   },
   "source": [
    "Использовать варианты ответов в коде решения запрещено.    \n",
    "Вы думаете и в жизни у вас будут варианты ответов?)"
   ]
  },
  {
   "cell_type": "code",
   "execution_count": 544,
   "metadata": {
    "colab": {},
    "colab_type": "code",
    "id": "uVnXAY5RVp-O"
   },
   "outputs": [],
   "source": [
    "# в словарь вставляем номер вопроса и ваш ответ на него\n",
    "# Пример: \n",
    "answers['1'] = '2. Spider-Man 3 (tt0413300)'\n",
    "# запишите свой вариант ответа\n",
    "\n",
    "# если ответили верно, можете добавить комментарий со значком \"+\""
   ]
  },
  {
   "cell_type": "code",
   "execution_count": 141,
   "metadata": {
    "colab": {},
    "colab_type": "code",
    "id": "dZwb3m28Vp-S"
   },
   "outputs": [
    {
     "data": {
      "text/plain": [
       "723    Pirates of the Caribbean: On Stranger Tides\n",
       "Name: original_title, dtype: object"
      ]
     },
     "metadata": {},
     "output_type": "display_data"
    },
    {
     "data": {
      "text/plain": [
       "'Pirates of the Caribbean: On Stranger Tides'"
      ]
     },
     "metadata": {},
     "output_type": "display_data"
    }
   ],
   "source": [
    "# тут пишем ваш код для решения данного вопроса:\n",
    "display(data[(data.budget == data.budget.max())].original_title)\n",
    "answers['1'] = data[(data.budget == data.budget.max())].original_title.values[0]\n",
    "display(answers['1'])"
   ]
  },
  {
   "cell_type": "markdown",
   "metadata": {
    "colab_type": "text",
    "id": "K7L3nbRXVp-X"
   },
   "source": [
    "ВАРИАНТ 2"
   ]
  },
  {
   "cell_type": "code",
   "execution_count": 142,
   "metadata": {
    "colab": {},
    "colab_type": "code",
    "id": "OGaoQI7rVp-X"
   },
   "outputs": [
    {
     "data": {
      "text/plain": [
       "723    Pirates of the Caribbean: On Stranger Tides\n",
       "Name: original_title, dtype: object"
      ]
     },
     "execution_count": 142,
     "metadata": {},
     "output_type": "execute_result"
    }
   ],
   "source": [
    "# можно добавлять разные варианты решения\n",
    "data.sort_values(by='budget',ascending= False).head(1).original_title"
   ]
  },
  {
   "cell_type": "markdown",
   "metadata": {
    "colab_type": "text",
    "id": "FNRbbI3vVp-c"
   },
   "source": [
    "# 2. Какой из фильмов самый длительный (в минутах)?"
   ]
  },
  {
   "cell_type": "code",
   "execution_count": 143,
   "metadata": {
    "colab": {},
    "colab_type": "code",
    "id": "vHAoEXNTVp-d"
   },
   "outputs": [],
   "source": [
    "# думаю логику работы с этим словарем вы уже поняли, \n",
    "# по этому не буду больше его дублировать\n"
   ]
  },
  {
   "cell_type": "code",
   "execution_count": 144,
   "metadata": {
    "colab": {},
    "colab_type": "code",
    "id": "ot-VX2XrVp-g"
   },
   "outputs": [
    {
     "data": {
      "text/plain": [
       "1157    Gods and Generals\n",
       "Name: original_title, dtype: object"
      ]
     },
     "metadata": {},
     "output_type": "display_data"
    },
    {
     "data": {
      "text/plain": [
       "'Gods and Generals'"
      ]
     },
     "metadata": {},
     "output_type": "display_data"
    }
   ],
   "source": [
    "display(data[(data.runtime == data.runtime.max())].original_title)\n",
    "answers['2'] = data[(data.runtime == data.runtime.max())].original_title.values[0]\n",
    "display(answers['2'])"
   ]
  },
  {
   "cell_type": "markdown",
   "metadata": {
    "colab_type": "text",
    "id": "bapLlpW8Vp-k"
   },
   "source": [
    "# 3. Какой из фильмов самый короткий (в минутах)?\n",
    "\n",
    "\n",
    "\n"
   ]
  },
  {
   "cell_type": "code",
   "execution_count": 145,
   "metadata": {
    "colab": {},
    "colab_type": "code",
    "id": "YBxaSHuAVp-l"
   },
   "outputs": [
    {
     "data": {
      "text/plain": [
       "768    Winnie the Pooh\n",
       "Name: original_title, dtype: object"
      ]
     },
     "metadata": {},
     "output_type": "display_data"
    },
    {
     "data": {
      "text/plain": [
       "'Winnie the Pooh'"
      ]
     },
     "metadata": {},
     "output_type": "display_data"
    }
   ],
   "source": [
    "display(data[(data.runtime == data.runtime.min())].original_title)\n",
    "answers['3'] = data[(data.runtime == data.runtime.min())].original_title.values[0]\n",
    "display(answers['3'])"
   ]
  },
  {
   "cell_type": "markdown",
   "metadata": {
    "colab_type": "text",
    "id": "TfQbxbfNVp-p"
   },
   "source": [
    "# 4. Какова средняя длительность фильмов?\n"
   ]
  },
  {
   "cell_type": "code",
   "execution_count": 146,
   "metadata": {
    "colab": {},
    "colab_type": "code",
    "id": "5K6dKZYVVp-q"
   },
   "outputs": [
    {
     "data": {
      "text/plain": [
       "109.6585494970884"
      ]
     },
     "metadata": {},
     "output_type": "display_data"
    }
   ],
   "source": [
    "display(data.mean().runtime)\n",
    "answers['4'] = data.mean().runtime"
   ]
  },
  {
   "cell_type": "markdown",
   "metadata": {
    "colab_type": "text",
    "id": "r5TvbnT_Vp-u"
   },
   "source": [
    "# 5. Каково медианное значение длительности фильмов? "
   ]
  },
  {
   "cell_type": "code",
   "execution_count": 147,
   "metadata": {
    "colab": {},
    "colab_type": "code",
    "id": "iBROplKnVp-v"
   },
   "outputs": [
    {
     "data": {
      "text/plain": [
       "107.0"
      ]
     },
     "metadata": {},
     "output_type": "display_data"
    }
   ],
   "source": [
    "display(data.median().runtime)\n",
    "answers['5'] = data.median().runtime"
   ]
  },
  {
   "cell_type": "markdown",
   "metadata": {
    "colab_type": "text",
    "id": "39P-deDSVp-y"
   },
   "source": [
    "# 6. Какой самый прибыльный фильм?\n",
    "#### Внимание! Здесь и далее под «прибылью» или «убытками» понимается разность между сборами и бюджетом фильма. (прибыль = сборы - бюджет) в нашем датасете это будет (profit = revenue - budget) "
   ]
  },
  {
   "cell_type": "code",
   "execution_count": 148,
   "metadata": {
    "colab": {},
    "colab_type": "code",
    "id": "UYZh4T9WVp-y"
   },
   "outputs": [
    {
     "data": {
      "text/plain": [
       "239    Avatar\n",
       "Name: original_title, dtype: object"
      ]
     },
     "metadata": {},
     "output_type": "display_data"
    },
    {
     "data": {
      "text/plain": [
       "'Avatar'"
      ]
     },
     "metadata": {},
     "output_type": "display_data"
    }
   ],
   "source": [
    "# лучше код получения столбца profit вынести в Предобработку что в начале\n",
    "data['profit'] = data.revenue - data.budget\n",
    "\n",
    "display(data[(data.profit == data.profit.max())].original_title)\n",
    "answers['6'] = data[(data.profit == data.profit.max())].original_title.values[0]\n",
    "display(answers['6'] )"
   ]
  },
  {
   "cell_type": "markdown",
   "metadata": {
    "colab_type": "text",
    "id": "M99JmIX4Vp-2"
   },
   "source": [
    "# 7. Какой фильм самый убыточный? "
   ]
  },
  {
   "cell_type": "code",
   "execution_count": 217,
   "metadata": {
    "colab": {},
    "colab_type": "code",
    "id": "w-D2m4XPVp-3"
   },
   "outputs": [
    {
     "data": {
      "text/plain": [
       "1245    The Lone Ranger\n",
       "Name: original_title, dtype: object"
      ]
     },
     "metadata": {},
     "output_type": "display_data"
    },
    {
     "data": {
      "text/plain": [
       "'The Lone Ranger'"
      ]
     },
     "metadata": {},
     "output_type": "display_data"
    }
   ],
   "source": [
    "#use data.profit  from step 6.\n",
    "display(data[(data.profit == data.profit.min())].original_title)\n",
    "answers['7'] = data[(data.profit == data.profit.min())].original_title.values[0]\n",
    "display(answers['7'] )"
   ]
  },
  {
   "cell_type": "markdown",
   "metadata": {
    "colab_type": "text",
    "id": "wEOM5ERVVp-6"
   },
   "source": [
    "# 8. У скольких фильмов из датасета объем сборов оказался выше бюджета?"
   ]
  },
  {
   "cell_type": "code",
   "execution_count": 150,
   "metadata": {
    "colab": {},
    "colab_type": "code",
    "id": "y00_7HD6Vp-7"
   },
   "outputs": [
    {
     "data": {
      "text/plain": [
       "1478"
      ]
     },
     "metadata": {},
     "output_type": "display_data"
    }
   ],
   "source": [
    "display(len(data[(data.revenue > data.budget)]))\n",
    "answers['8'] = len(data[(data.revenue > data.budget)])"
   ]
  },
  {
   "cell_type": "markdown",
   "metadata": {
    "colab_type": "text",
    "id": "xhpspA9KVp_A"
   },
   "source": [
    "# 9. Какой фильм оказался самым кассовым в 2008 году?"
   ]
  },
  {
   "cell_type": "code",
   "execution_count": 151,
   "metadata": {
    "colab": {},
    "colab_type": "code",
    "id": "MoUyQr9RVp_B"
   },
   "outputs": [
    {
     "data": {
      "text/plain": [
       "599    The Dark Knight\n",
       "Name: original_title, dtype: object"
      ]
     },
     "metadata": {},
     "output_type": "display_data"
    },
    {
     "data": {
      "text/plain": [
       "'The Dark Knight'"
      ]
     },
     "metadata": {},
     "output_type": "display_data"
    }
   ],
   "source": [
    "display(data [data.revenue == data[(data.release_year == 2008)].revenue.max()].original_title)\n",
    "answers['9'] = data [data.revenue == data[(data.release_year == 2008)].revenue.max()].original_title.values[0]\n",
    "display(answers['9'])"
   ]
  },
  {
   "cell_type": "markdown",
   "metadata": {
    "colab_type": "text",
    "id": "Zi4hDKidVp_F"
   },
   "source": [
    "# 10. Самый убыточный фильм за период с 2012 по 2014 г. (включительно)?\n"
   ]
  },
  {
   "cell_type": "code",
   "execution_count": 252,
   "metadata": {
    "colab": {},
    "colab_type": "code",
    "id": "XqyRmufJVp_F"
   },
   "outputs": [
    {
     "data": {
      "text/plain": [
       "'The Lone Ranger'"
      ]
     },
     "metadata": {},
     "output_type": "display_data"
    }
   ],
   "source": [
    "#use data.profit  from step 6.\n",
    "answers['10'] = data[(data.profit == data.profit.min())&(data['release_year'] > 2012) \n",
    "                     & (data['release_year'] <= 2014)].original_title.values[0]\n",
    "display(answers['10'])"
   ]
  },
  {
   "cell_type": "markdown",
   "metadata": {
    "colab_type": "text",
    "id": "EA7Sa9dkVp_I"
   },
   "source": [
    "# 11. Какого жанра фильмов больше всего?"
   ]
  },
  {
   "cell_type": "code",
   "execution_count": 153,
   "metadata": {
    "colab": {},
    "colab_type": "code",
    "id": "zsJAwJ8QVp_J"
   },
   "outputs": [
    {
     "data": {
      "text/plain": [
       "tuple"
      ]
     },
     "metadata": {},
     "output_type": "display_data"
    },
    {
     "data": {
      "text/plain": [
       "('Drama', 782)"
      ]
     },
     "metadata": {},
     "output_type": "display_data"
    }
   ],
   "source": [
    "# эту задачу тоже можно решать разными подходами, попробуй реализовать разные варианты\n",
    "genre_counter = Counter(data['genres'].str.cat(sep='|').split('|')).most_common()\n",
    "display(type(genre_counter[0]))\n",
    "answers['11'] = genre_counter[0]\n",
    "display(answers['11'])\n",
    "# если будешь добавлять функцию - выноси ее в предобработку что в начале"
   ]
  },
  {
   "cell_type": "markdown",
   "metadata": {
    "colab_type": "text",
    "id": "Ax6g2C8SVp_M"
   },
   "source": [
    "ВАРИАНТ 2"
   ]
  },
  {
   "cell_type": "code",
   "execution_count": 154,
   "metadata": {
    "colab": {},
    "colab_type": "code",
    "id": "otO3SbrSVp_N"
   },
   "outputs": [
    {
     "data": {
      "text/plain": [
       "Drama              782\n",
       "Comedy             683\n",
       "Thriller           596\n",
       "Action             582\n",
       "Adventure          415\n",
       "Crime              315\n",
       "Romance            308\n",
       "Family             260\n",
       "Science Fiction    248\n",
       "Fantasy            222\n",
       "Horror             176\n",
       "Mystery            168\n",
       "Animation          139\n",
       "Music               64\n",
       "History             62\n",
       "War                 58\n",
       "Western             19\n",
       "Documentary          8\n",
       "Foreign              2\n",
       "dtype: int64"
      ]
     },
     "execution_count": 154,
     "metadata": {},
     "output_type": "execute_result"
    }
   ],
   "source": [
    "pd.Series(data['genres'].str.cat(sep='|').split('|')).value_counts(ascending=False)"
   ]
  },
  {
   "cell_type": "markdown",
   "metadata": {
    "colab_type": "text",
    "id": "T9_bPWpkVp_Q"
   },
   "source": [
    "# 12. Фильмы какого жанра чаще всего становятся прибыльными? "
   ]
  },
  {
   "cell_type": "code",
   "execution_count": 155,
   "metadata": {
    "colab": {},
    "colab_type": "code",
    "id": "Tmt8MaK1Vp_R"
   },
   "outputs": [
    {
     "data": {
      "text/plain": [
       "Drama    560\n",
       "dtype: int64"
      ]
     },
     "metadata": {},
     "output_type": "display_data"
    },
    {
     "data": {
      "text/plain": [
       "'Drama'"
      ]
     },
     "metadata": {},
     "output_type": "display_data"
    }
   ],
   "source": [
    "#use data.profit  from step 6.\n",
    "profit_film = pd.Series(data[(data.profit > 0)].genres.str.cat(sep='|').split('|')).value_counts(ascending=False)\n",
    "display(profit_film.head(1))\n",
    "answers['12'] = profit_film.index[0]\n",
    "display(answers['12'])"
   ]
  },
  {
   "cell_type": "markdown",
   "metadata": {
    "colab_type": "text",
    "id": "0F23bgsDVp_U"
   },
   "source": [
    "# 13. У какого режиссера самые большие суммарные кассовые сбооры?"
   ]
  },
  {
   "cell_type": "code",
   "execution_count": 156,
   "metadata": {
    "colab": {},
    "colab_type": "code",
    "id": "K6Z3J8ygVp_X",
    "scrolled": false
   },
   "outputs": [
    {
     "data": {
      "text/plain": [
       "12    Peter Jackson\n",
       "Name: director, dtype: object"
      ]
     },
     "metadata": {},
     "output_type": "display_data"
    },
    {
     "data": {
      "text/plain": [
       "'Peter Jackson'"
      ]
     },
     "metadata": {},
     "output_type": "display_data"
    }
   ],
   "source": [
    "'''#var.1\n",
    "#use pivot table and merge on imdb_id\n",
    "directors = pd.DataFrame(columns=['imdb_id','dir'])\n",
    "revenues = data[['imdb_id','revenue']]\n",
    "for index, row in data.iterrows():\n",
    "    step_directors = pd.DataFrame(str.split(row.director,sep='|'),columns=['dir'])\n",
    "    step_directors['imdb_id']=row['imdb_id']\n",
    "    directors = directors.append(step_directors)\n",
    "\n",
    "joined_dir_rev = directors.merge(revenues,on ='imdb_id',how ='inner').groupby(['dir']).sum()\n",
    "display(joined_dir_rev[joined_dir_rev.revenue == joined_dir_rev.revenue.max()])\n",
    "\n",
    "\n",
    "#var.2\n",
    "data_dir = data.director.str.cat(sep='|')\n",
    "data_dir = pd.Series(data_dir.split('|'))\n",
    "data_dir = data_dir.value_counts()\n",
    "\n",
    "for i in data_dir.index:\n",
    "    for a in data.index:\n",
    "        if i in data.director[a]:\n",
    "            data_dir[i] = data_dir[i] + data.revenue[a]\n",
    "sorted_director = data_dir.sort_values(ascending = False)\n",
    "\n",
    "display(sorted_director.head(2))'''\n",
    "\n",
    "'''\n",
    "#var3.\n",
    "\n",
    "data_dir = data.director.str.cat(sep='|')\n",
    "data_dir = pd.Series(data_dir.split('|'))\n",
    "data_dir = data_dir.value_counts()\n",
    "\n",
    "from itertools import chain\n",
    "def chainer(s):\n",
    "    return list(chain.from_iterable(s.str.split('|')))\n",
    "\n",
    "lens = data['director'].str.split('|').map(len)\n",
    "\n",
    "splited_dir_revenue = pd.DataFrame({'director':chainer(data['director']),\n",
    "                   'revenue':np.repeat(data['revenue'],lens)\n",
    "                                   })\n",
    "\n",
    "directors = []\n",
    "\n",
    "for i in data_dir.index:\n",
    "    directors.append([i, splited_dir_revenue['revenue'][splited_dir_revenue.director == i].sum()])\n",
    "\n",
    "director_df = pd.DataFrame(directors, columns=[\"director\", \"revenue\"]).sort_values(by='revenue', ascending=False)\n",
    "display(director_df.head(1).director)'''\n",
    "\n",
    "\n",
    "#var4\n",
    "data_dir = data.director.str.cat(sep='|')\n",
    "data_dir = pd.Series(data_dir.split('|'))\n",
    "data_dir = data_dir.value_counts()\n",
    "\n",
    "for i in data_dir.index:\n",
    "    data_dir[i] = data['revenue'][data['director'].map(lambda x: True if i in x else False)].sum()\n",
    "display(director_df.head(2))\n",
    "\n",
    "answers['13'] = director_df.values[0,0]\n",
    "display(answers['13'])"
   ]
  },
  {
   "cell_type": "markdown",
   "metadata": {
    "colab_type": "text",
    "id": "PsYC9FgRVp_a"
   },
   "source": [
    "# 14. Какой режисер снял больше всего фильмов в стиле Action?"
   ]
  },
  {
   "cell_type": "code",
   "execution_count": 161,
   "metadata": {
    "colab": {},
    "colab_type": "code",
    "id": "wd2M-wHeVp_b"
   },
   "outputs": [
    {
     "data": {
      "text/plain": [
       "Robert Rodriguez      9\n",
       "Michael Bay           7\n",
       "Paul W.S. Anderson    7\n",
       "Ridley Scott          6\n",
       "Antoine Fuqua         6\n",
       "dtype: int64"
      ]
     },
     "metadata": {},
     "output_type": "display_data"
    },
    {
     "data": {
      "text/plain": [
       "'Robert Rodriguez'"
      ]
     },
     "metadata": {},
     "output_type": "display_data"
    }
   ],
   "source": [
    "data_tmp = data[data.genres.str.contains(\"Action\")]\n",
    "def counter(movie_bd, x):\n",
    "    data_tmp=movie_bd[x].str.cat(sep='|') # превращаем все в одну строку\n",
    "   \n",
    "    data_tmp=pd.Series(data_tmp.split('|')) # создаем список разделяя строку по '|'\n",
    "    \n",
    "   \n",
    "    data_tmp=data_tmp.value_counts(ascending=False) # считаем количество элементов строке\n",
    "    \n",
    "    return data_tmp\n",
    "\n",
    "sum_gen=counter(data_tmp,'director')\n",
    "\n",
    "display(sum_gen[:5])\n",
    "\n",
    "\n",
    "answers['14'] = sum_gen[:1].index[0]\n",
    "display(answers['14'])"
   ]
  },
  {
   "cell_type": "markdown",
   "metadata": {
    "colab_type": "text",
    "id": "PQ0KciD7Vp_f"
   },
   "source": [
    "# 15. Фильмы с каким актером принесли самые высокие кассовые сборы в 2012 году? "
   ]
  },
  {
   "cell_type": "code",
   "execution_count": 258,
   "metadata": {
    "colab": {},
    "colab_type": "code",
    "id": "aga62oeKVp_g"
   },
   "outputs": [
    {
     "data": {
      "text/html": [
       "<div>\n",
       "<style scoped>\n",
       "    .dataframe tbody tr th:only-of-type {\n",
       "        vertical-align: middle;\n",
       "    }\n",
       "\n",
       "    .dataframe tbody tr th {\n",
       "        vertical-align: top;\n",
       "    }\n",
       "\n",
       "    .dataframe thead th {\n",
       "        text-align: right;\n",
       "    }\n",
       "</style>\n",
       "<table border=\"1\" class=\"dataframe\">\n",
       "  <thead>\n",
       "    <tr style=\"text-align: right;\">\n",
       "      <th></th>\n",
       "      <th>cast</th>\n",
       "      <th>revenue</th>\n",
       "      <th>original_title</th>\n",
       "    </tr>\n",
       "  </thead>\n",
       "  <tbody>\n",
       "    <tr>\n",
       "      <th>1</th>\n",
       "      <td>Chris Hemsworth</td>\n",
       "      <td>2027450773</td>\n",
       "      <td>[The Avengers, Snow White and the Huntsman, Th...</td>\n",
       "    </tr>\n",
       "    <tr>\n",
       "      <th>48</th>\n",
       "      <td>Denis Leary</td>\n",
       "      <td>1629460639</td>\n",
       "      <td>[The Amazing Spider-Man, Ice Age: Continental ...</td>\n",
       "    </tr>\n",
       "  </tbody>\n",
       "</table>\n",
       "</div>"
      ],
      "text/plain": [
       "               cast     revenue  \\\n",
       "1   Chris Hemsworth  2027450773   \n",
       "48      Denis Leary  1629460639   \n",
       "\n",
       "                                       original_title  \n",
       "1   [The Avengers, Snow White and the Huntsman, Th...  \n",
       "48  [The Amazing Spider-Man, Ice Age: Continental ...  "
      ]
     },
     "metadata": {},
     "output_type": "display_data"
    },
    {
     "data": {
      "text/plain": [
       "'Chris Hemsworth'"
      ]
     },
     "metadata": {},
     "output_type": "display_data"
    }
   ],
   "source": [
    "data_film = data[data.release_year == 2012]\n",
    "\n",
    "data_cast = data_film.cast.str.cat(sep='|') \n",
    "data_cast = pd.Series(data_cast.split('|'))\n",
    "data_cast = data_cast.value_counts()\n",
    "\n",
    "from itertools import chain\n",
    "\n",
    "def chainer(s):\n",
    "    return list(chain.from_iterable(s.str.split('|'))) # get list of separated str\n",
    "\n",
    "#return lenght of array\n",
    "lens = data_film['cast'].str.split('|').map(len)\n",
    "\n",
    "#new DFrame with one actor and same revenue and title, just one value for cast \n",
    "splited_cast_revenue = pd.DataFrame({'cast':chainer(data_film['cast']),\n",
    "                                     'revenue':np.repeat(data_film['revenue'],lens),\n",
    "                                     'original_title':np.repeat(data_film['original_title'],lens)\n",
    "                                   })\n",
    "actors = []\n",
    "#loop throught every data_cast actor\n",
    "for i in data_cast.index:\n",
    "    #name of actor with sum of revenue througth the all films, were actor take part \n",
    "    actors.append([i, splited_cast_revenue['revenue'][splited_cast_revenue.cast == i].sum(), \n",
    "                   splited_cast_revenue['original_title'][splited_cast_revenue.cast == i].values])\n",
    "#sorting of the revenue\n",
    "actors_df = pd.DataFrame(actors, columns=['cast', 'revenue', 'original_title']).sort_values(by='revenue', ascending=False)\n",
    "display(actors_df.head(2))\n",
    "\n",
    "answers['15'] = actors_df.head(1).cast.values[0]\n",
    "display(answers['15'])"
   ]
  },
  {
   "cell_type": "markdown",
   "metadata": {
    "colab_type": "text",
    "id": "mWHyyL7QVp_j"
   },
   "source": [
    "# 16. Какой актер снялся в большем количестве высокобюджетных фильмов?"
   ]
  },
  {
   "cell_type": "code",
   "execution_count": 260,
   "metadata": {
    "colab": {},
    "colab_type": "code",
    "id": "qQtmHKTFVp_k"
   },
   "outputs": [
    {
     "data": {
      "text/plain": [
       "Matt Damon      18\n",
       "Adam Sandler    17\n",
       "dtype: int64"
      ]
     },
     "metadata": {},
     "output_type": "display_data"
    },
    {
     "data": {
      "text/plain": [
       "'Matt Damon'"
      ]
     },
     "metadata": {},
     "output_type": "display_data"
    }
   ],
   "source": [
    "data_cast = data[data['budget'] > data['budget'].mean()].cast.str.cat(sep='|')\n",
    "data_cast = pd.Series(data_cast.split('|'))\n",
    "data_cast = data_cast.value_counts()\n",
    "\n",
    "display(data_cast.head(2))\n",
    "\n",
    "answers['16'] = data_cast.head(1).index[0]\n",
    "display(answers['16'])"
   ]
  },
  {
   "cell_type": "markdown",
   "metadata": {
    "colab_type": "text",
    "id": "NIh6AaW5Vp_n"
   },
   "source": [
    "# 17. В фильмах какого жанра больше всего снимался Nicolas Cage? "
   ]
  },
  {
   "cell_type": "code",
   "execution_count": 261,
   "metadata": {
    "colab": {},
    "colab_type": "code",
    "id": "H74SJDIBVp_n"
   },
   "outputs": [
    {
     "data": {
      "text/plain": [
       "Action      17\n",
       "Thriller    15\n",
       "Drama       12\n",
       "Crime       10\n",
       "Fantasy      8\n",
       "dtype: int64"
      ]
     },
     "metadata": {},
     "output_type": "display_data"
    },
    {
     "data": {
      "text/plain": [
       "'Action'"
      ]
     },
     "metadata": {},
     "output_type": "display_data"
    }
   ],
   "source": [
    "#use func. counter written in step 14\n",
    "sum_gen = counter(data[data.cast.str.contains(\"Nicolas Cage\")],'genres')\n",
    "\n",
    "display(sum_gen[:5])\n",
    "\n",
    "answers['17'] = sum_gen[0:1].index[0]\n",
    "display(answers['17'])"
   ]
  },
  {
   "cell_type": "markdown",
   "metadata": {
    "colab_type": "text",
    "id": "RqOmPRfWVp_q"
   },
   "source": [
    "# 18. Самый убыточный фильм от Paramount Pictures"
   ]
  },
  {
   "cell_type": "code",
   "execution_count": 255,
   "metadata": {
    "colab": {},
    "colab_type": "code",
    "id": "9E_B0Y96Vp_r"
   },
   "outputs": [
    {
     "data": {
      "text/plain": [
       "925     K-19: The Widowmaker\n",
       "1123                Timeline\n",
       "Name: original_title, dtype: object"
      ]
     },
     "metadata": {},
     "output_type": "display_data"
    },
    {
     "data": {
      "text/plain": [
       "'K-19: The Widowmaker'"
      ]
     },
     "metadata": {},
     "output_type": "display_data"
    }
   ],
   "source": [
    "data['losses'] = data.budget - data.revenue\n",
    "\n",
    "#sort data frame there company is Paramount Pictures\n",
    "display(data[(data.production_companies.str.contains(\"Paramount Pictures\"))].\n",
    "        sort_values(by='losses', ascending=False).head(2).original_title)\n",
    "answers['18'] = (data[(data.production_companies.str.contains(\"Paramount Pictures\"))].\n",
    "                sort_values(by='losses', ascending=False).original_title.values[0])\n",
    "display(answers['18'])"
   ]
  },
  {
   "cell_type": "markdown",
   "metadata": {
    "colab_type": "text",
    "id": "vS8Ur6ddVp_u"
   },
   "source": [
    "# 19. Какой год стал самым успешным по суммарным кассовым сборам?"
   ]
  },
  {
   "cell_type": "code",
   "execution_count": 166,
   "metadata": {
    "colab": {},
    "colab_type": "code",
    "id": "Dnbt4GdIVp_v"
   },
   "outputs": [
    {
     "data": {
      "text/html": [
       "<div>\n",
       "<style scoped>\n",
       "    .dataframe tbody tr th:only-of-type {\n",
       "        vertical-align: middle;\n",
       "    }\n",
       "\n",
       "    .dataframe tbody tr th {\n",
       "        vertical-align: top;\n",
       "    }\n",
       "\n",
       "    .dataframe thead th {\n",
       "        text-align: right;\n",
       "    }\n",
       "</style>\n",
       "<table border=\"1\" class=\"dataframe\">\n",
       "  <thead>\n",
       "    <tr style=\"text-align: right;\">\n",
       "      <th></th>\n",
       "      <th>budget</th>\n",
       "      <th>revenue</th>\n",
       "      <th>runtime</th>\n",
       "      <th>vote_average</th>\n",
       "      <th>profit</th>\n",
       "      <th>losses</th>\n",
       "    </tr>\n",
       "    <tr>\n",
       "      <th>release_year</th>\n",
       "      <th></th>\n",
       "      <th></th>\n",
       "      <th></th>\n",
       "      <th></th>\n",
       "      <th></th>\n",
       "      <th></th>\n",
       "    </tr>\n",
       "  </thead>\n",
       "  <tbody>\n",
       "    <tr>\n",
       "      <th>2015</th>\n",
       "      <td>6780630004</td>\n",
       "      <td>25449202382</td>\n",
       "      <td>13355</td>\n",
       "      <td>755.2</td>\n",
       "      <td>18668572378</td>\n",
       "      <td>-18668572378</td>\n",
       "    </tr>\n",
       "    <tr>\n",
       "      <th>2014</th>\n",
       "      <td>7008050000</td>\n",
       "      <td>23405862953</td>\n",
       "      <td>13444</td>\n",
       "      <td>774.5</td>\n",
       "      <td>16397812953</td>\n",
       "      <td>-16397812953</td>\n",
       "    </tr>\n",
       "    <tr>\n",
       "      <th>2013</th>\n",
       "      <td>7970620000</td>\n",
       "      <td>23213799791</td>\n",
       "      <td>15039</td>\n",
       "      <td>846.9</td>\n",
       "      <td>15243179791</td>\n",
       "      <td>-15243179791</td>\n",
       "    </tr>\n",
       "    <tr>\n",
       "      <th>2012</th>\n",
       "      <td>7002000000</td>\n",
       "      <td>23079001687</td>\n",
       "      <td>12145</td>\n",
       "      <td>682.1</td>\n",
       "      <td>16077001687</td>\n",
       "      <td>-16077001687</td>\n",
       "    </tr>\n",
       "    <tr>\n",
       "      <th>2011</th>\n",
       "      <td>7946550531</td>\n",
       "      <td>22676791872</td>\n",
       "      <td>15355</td>\n",
       "      <td>868.5</td>\n",
       "      <td>14730241341</td>\n",
       "      <td>-14730241341</td>\n",
       "    </tr>\n",
       "    <tr>\n",
       "      <th>2010</th>\n",
       "      <td>7540000000</td>\n",
       "      <td>21071204961</td>\n",
       "      <td>13592</td>\n",
       "      <td>762.1</td>\n",
       "      <td>13531204961</td>\n",
       "      <td>-13531204961</td>\n",
       "    </tr>\n",
       "    <tr>\n",
       "      <th>2009</th>\n",
       "      <td>6838046652</td>\n",
       "      <td>20261791024</td>\n",
       "      <td>14187</td>\n",
       "      <td>800.2</td>\n",
       "      <td>13423744372</td>\n",
       "      <td>-13423744372</td>\n",
       "    </tr>\n",
       "    <tr>\n",
       "      <th>2008</th>\n",
       "      <td>6588900000</td>\n",
       "      <td>18252781990</td>\n",
       "      <td>12979</td>\n",
       "      <td>731.1</td>\n",
       "      <td>11663881990</td>\n",
       "      <td>-11663881990</td>\n",
       "    </tr>\n",
       "    <tr>\n",
       "      <th>2007</th>\n",
       "      <td>6596495000</td>\n",
       "      <td>18162406801</td>\n",
       "      <td>14305</td>\n",
       "      <td>809.3</td>\n",
       "      <td>11565911801</td>\n",
       "      <td>-11565911801</td>\n",
       "    </tr>\n",
       "    <tr>\n",
       "      <th>2004</th>\n",
       "      <td>6029250000</td>\n",
       "      <td>15663430720</td>\n",
       "      <td>12014</td>\n",
       "      <td>671.3</td>\n",
       "      <td>9634180720</td>\n",
       "      <td>-9634180720</td>\n",
       "    </tr>\n",
       "    <tr>\n",
       "      <th>2005</th>\n",
       "      <td>6327500000</td>\n",
       "      <td>15309425558</td>\n",
       "      <td>13387</td>\n",
       "      <td>733.5</td>\n",
       "      <td>8981925558</td>\n",
       "      <td>-8981925558</td>\n",
       "    </tr>\n",
       "    <tr>\n",
       "      <th>2006</th>\n",
       "      <td>6083965000</td>\n",
       "      <td>14775042320</td>\n",
       "      <td>13952</td>\n",
       "      <td>775.4</td>\n",
       "      <td>8691077320</td>\n",
       "      <td>-8691077320</td>\n",
       "    </tr>\n",
       "    <tr>\n",
       "      <th>2003</th>\n",
       "      <td>5117300000</td>\n",
       "      <td>14346123312</td>\n",
       "      <td>10623</td>\n",
       "      <td>574.4</td>\n",
       "      <td>9228823312</td>\n",
       "      <td>-9228823312</td>\n",
       "    </tr>\n",
       "    <tr>\n",
       "      <th>2002</th>\n",
       "      <td>5134000000</td>\n",
       "      <td>14136361487</td>\n",
       "      <td>11528</td>\n",
       "      <td>653.1</td>\n",
       "      <td>9002361487</td>\n",
       "      <td>-9002361487</td>\n",
       "    </tr>\n",
       "    <tr>\n",
       "      <th>2001</th>\n",
       "      <td>5067150000</td>\n",
       "      <td>13017764865</td>\n",
       "      <td>11284</td>\n",
       "      <td>619.8</td>\n",
       "      <td>7950614865</td>\n",
       "      <td>-7950614865</td>\n",
       "    </tr>\n",
       "    <tr>\n",
       "      <th>2000</th>\n",
       "      <td>4562700000</td>\n",
       "      <td>10664099805</td>\n",
       "      <td>9956</td>\n",
       "      <td>542.5</td>\n",
       "      <td>6101399805</td>\n",
       "      <td>-6101399805</td>\n",
       "    </tr>\n",
       "  </tbody>\n",
       "</table>\n",
       "</div>"
      ],
      "text/plain": [
       "                  budget      revenue  runtime  vote_average       profit  \\\n",
       "release_year                                                                \n",
       "2015          6780630004  25449202382    13355         755.2  18668572378   \n",
       "2014          7008050000  23405862953    13444         774.5  16397812953   \n",
       "2013          7970620000  23213799791    15039         846.9  15243179791   \n",
       "2012          7002000000  23079001687    12145         682.1  16077001687   \n",
       "2011          7946550531  22676791872    15355         868.5  14730241341   \n",
       "2010          7540000000  21071204961    13592         762.1  13531204961   \n",
       "2009          6838046652  20261791024    14187         800.2  13423744372   \n",
       "2008          6588900000  18252781990    12979         731.1  11663881990   \n",
       "2007          6596495000  18162406801    14305         809.3  11565911801   \n",
       "2004          6029250000  15663430720    12014         671.3   9634180720   \n",
       "2005          6327500000  15309425558    13387         733.5   8981925558   \n",
       "2006          6083965000  14775042320    13952         775.4   8691077320   \n",
       "2003          5117300000  14346123312    10623         574.4   9228823312   \n",
       "2002          5134000000  14136361487    11528         653.1   9002361487   \n",
       "2001          5067150000  13017764865    11284         619.8   7950614865   \n",
       "2000          4562700000  10664099805     9956         542.5   6101399805   \n",
       "\n",
       "                   losses  \n",
       "release_year               \n",
       "2015         -18668572378  \n",
       "2014         -16397812953  \n",
       "2013         -15243179791  \n",
       "2012         -16077001687  \n",
       "2011         -14730241341  \n",
       "2010         -13531204961  \n",
       "2009         -13423744372  \n",
       "2008         -11663881990  \n",
       "2007         -11565911801  \n",
       "2004          -9634180720  \n",
       "2005          -8981925558  \n",
       "2006          -8691077320  \n",
       "2003          -9228823312  \n",
       "2002          -9002361487  \n",
       "2001          -7950614865  \n",
       "2000          -6101399805  "
      ]
     },
     "metadata": {},
     "output_type": "display_data"
    },
    {
     "data": {
      "text/plain": [
       "2015"
      ]
     },
     "metadata": {},
     "output_type": "display_data"
    }
   ],
   "source": [
    "data_year = data.groupby('release_year').sum()\n",
    "\n",
    "display(data_year.sort_values(by='revenue', ascending=False))\n",
    "\n",
    "answers['19'] = data_year.sort_values(by='revenue', ascending=False).index[0]\n",
    "display(answers['19'])"
   ]
  },
  {
   "cell_type": "markdown",
   "metadata": {
    "colab_type": "text",
    "id": "JAzJh4QAVp_z"
   },
   "source": [
    "# 20. Какой самый прибыльный год для студии Warner Bros?"
   ]
  },
  {
   "cell_type": "code",
   "execution_count": 167,
   "metadata": {
    "colab": {},
    "colab_type": "code",
    "id": "wgVu02DEVp_0"
   },
   "outputs": [
    {
     "data": {
      "text/html": [
       "<div>\n",
       "<style scoped>\n",
       "    .dataframe tbody tr th:only-of-type {\n",
       "        vertical-align: middle;\n",
       "    }\n",
       "\n",
       "    .dataframe tbody tr th {\n",
       "        vertical-align: top;\n",
       "    }\n",
       "\n",
       "    .dataframe thead th {\n",
       "        text-align: right;\n",
       "    }\n",
       "</style>\n",
       "<table border=\"1\" class=\"dataframe\">\n",
       "  <thead>\n",
       "    <tr style=\"text-align: right;\">\n",
       "      <th></th>\n",
       "      <th>budget</th>\n",
       "      <th>revenue</th>\n",
       "      <th>runtime</th>\n",
       "      <th>vote_average</th>\n",
       "      <th>profit</th>\n",
       "      <th>losses</th>\n",
       "    </tr>\n",
       "    <tr>\n",
       "      <th>release_year</th>\n",
       "      <th></th>\n",
       "      <th></th>\n",
       "      <th></th>\n",
       "      <th></th>\n",
       "      <th></th>\n",
       "      <th></th>\n",
       "    </tr>\n",
       "  </thead>\n",
       "  <tbody>\n",
       "    <tr>\n",
       "      <th>2014</th>\n",
       "      <td>947600000</td>\n",
       "      <td>3243064519</td>\n",
       "      <td>1576</td>\n",
       "      <td>88.9</td>\n",
       "      <td>2295464519</td>\n",
       "      <td>-2295464519</td>\n",
       "    </tr>\n",
       "    <tr>\n",
       "      <th>2007</th>\n",
       "      <td>982000000</td>\n",
       "      <td>3183675217</td>\n",
       "      <td>1721</td>\n",
       "      <td>95.4</td>\n",
       "      <td>2201675217</td>\n",
       "      <td>-2201675217</td>\n",
       "    </tr>\n",
       "    <tr>\n",
       "      <th>2008</th>\n",
       "      <td>916000000</td>\n",
       "      <td>3050595031</td>\n",
       "      <td>1366</td>\n",
       "      <td>72.0</td>\n",
       "      <td>2134595031</td>\n",
       "      <td>-2134595031</td>\n",
       "    </tr>\n",
       "    <tr>\n",
       "      <th>2010</th>\n",
       "      <td>1034000000</td>\n",
       "      <td>3008712985</td>\n",
       "      <td>1421</td>\n",
       "      <td>79.6</td>\n",
       "      <td>1974712985</td>\n",
       "      <td>-1974712985</td>\n",
       "    </tr>\n",
       "    <tr>\n",
       "      <th>2011</th>\n",
       "      <td>974000000</td>\n",
       "      <td>2845393682</td>\n",
       "      <td>1248</td>\n",
       "      <td>68.3</td>\n",
       "      <td>1871393682</td>\n",
       "      <td>-1871393682</td>\n",
       "    </tr>\n",
       "    <tr>\n",
       "      <th>2003</th>\n",
       "      <td>890000000</td>\n",
       "      <td>2745493377</td>\n",
       "      <td>1085</td>\n",
       "      <td>56.7</td>\n",
       "      <td>1855493377</td>\n",
       "      <td>-1855493377</td>\n",
       "    </tr>\n",
       "    <tr>\n",
       "      <th>2009</th>\n",
       "      <td>915500000</td>\n",
       "      <td>2737954136</td>\n",
       "      <td>1305</td>\n",
       "      <td>67.9</td>\n",
       "      <td>1822454136</td>\n",
       "      <td>-1822454136</td>\n",
       "    </tr>\n",
       "    <tr>\n",
       "      <th>2004</th>\n",
       "      <td>1100000000</td>\n",
       "      <td>2731933725</td>\n",
       "      <td>1624</td>\n",
       "      <td>78.7</td>\n",
       "      <td>1631933725</td>\n",
       "      <td>-1631933725</td>\n",
       "    </tr>\n",
       "    <tr>\n",
       "      <th>2013</th>\n",
       "      <td>963500000</td>\n",
       "      <td>2599953400</td>\n",
       "      <td>1100</td>\n",
       "      <td>59.9</td>\n",
       "      <td>1636453400</td>\n",
       "      <td>-1636453400</td>\n",
       "    </tr>\n",
       "    <tr>\n",
       "      <th>2005</th>\n",
       "      <td>861000000</td>\n",
       "      <td>2412980298</td>\n",
       "      <td>1193</td>\n",
       "      <td>63.0</td>\n",
       "      <td>1551980298</td>\n",
       "      <td>-1551980298</td>\n",
       "    </tr>\n",
       "    <tr>\n",
       "      <th>2001</th>\n",
       "      <td>923000000</td>\n",
       "      <td>2266545668</td>\n",
       "      <td>1571</td>\n",
       "      <td>83.6</td>\n",
       "      <td>1343545668</td>\n",
       "      <td>-1343545668</td>\n",
       "    </tr>\n",
       "    <tr>\n",
       "      <th>2012</th>\n",
       "      <td>611500000</td>\n",
       "      <td>1869520056</td>\n",
       "      <td>579</td>\n",
       "      <td>30.0</td>\n",
       "      <td>1258020056</td>\n",
       "      <td>-1258020056</td>\n",
       "    </tr>\n",
       "    <tr>\n",
       "      <th>2002</th>\n",
       "      <td>680000000</td>\n",
       "      <td>1702709901</td>\n",
       "      <td>1281</td>\n",
       "      <td>70.6</td>\n",
       "      <td>1022709901</td>\n",
       "      <td>-1022709901</td>\n",
       "    </tr>\n",
       "    <tr>\n",
       "      <th>2015</th>\n",
       "      <td>820800003</td>\n",
       "      <td>1691168351</td>\n",
       "      <td>1358</td>\n",
       "      <td>75.9</td>\n",
       "      <td>870368348</td>\n",
       "      <td>-870368348</td>\n",
       "    </tr>\n",
       "    <tr>\n",
       "      <th>2006</th>\n",
       "      <td>901000000</td>\n",
       "      <td>1521170743</td>\n",
       "      <td>1504</td>\n",
       "      <td>81.0</td>\n",
       "      <td>620170743</td>\n",
       "      <td>-620170743</td>\n",
       "    </tr>\n",
       "    <tr>\n",
       "      <th>2000</th>\n",
       "      <td>572900000</td>\n",
       "      <td>1025531386</td>\n",
       "      <td>1333</td>\n",
       "      <td>68.0</td>\n",
       "      <td>452631386</td>\n",
       "      <td>-452631386</td>\n",
       "    </tr>\n",
       "  </tbody>\n",
       "</table>\n",
       "</div>"
      ],
      "text/plain": [
       "                  budget     revenue  runtime  vote_average      profit  \\\n",
       "release_year                                                              \n",
       "2014           947600000  3243064519     1576          88.9  2295464519   \n",
       "2007           982000000  3183675217     1721          95.4  2201675217   \n",
       "2008           916000000  3050595031     1366          72.0  2134595031   \n",
       "2010          1034000000  3008712985     1421          79.6  1974712985   \n",
       "2011           974000000  2845393682     1248          68.3  1871393682   \n",
       "2003           890000000  2745493377     1085          56.7  1855493377   \n",
       "2009           915500000  2737954136     1305          67.9  1822454136   \n",
       "2004          1100000000  2731933725     1624          78.7  1631933725   \n",
       "2013           963500000  2599953400     1100          59.9  1636453400   \n",
       "2005           861000000  2412980298     1193          63.0  1551980298   \n",
       "2001           923000000  2266545668     1571          83.6  1343545668   \n",
       "2012           611500000  1869520056      579          30.0  1258020056   \n",
       "2002           680000000  1702709901     1281          70.6  1022709901   \n",
       "2015           820800003  1691168351     1358          75.9   870368348   \n",
       "2006           901000000  1521170743     1504          81.0   620170743   \n",
       "2000           572900000  1025531386     1333          68.0   452631386   \n",
       "\n",
       "                  losses  \n",
       "release_year              \n",
       "2014         -2295464519  \n",
       "2007         -2201675217  \n",
       "2008         -2134595031  \n",
       "2010         -1974712985  \n",
       "2011         -1871393682  \n",
       "2003         -1855493377  \n",
       "2009         -1822454136  \n",
       "2004         -1631933725  \n",
       "2013         -1636453400  \n",
       "2005         -1551980298  \n",
       "2001         -1343545668  \n",
       "2012         -1258020056  \n",
       "2002         -1022709901  \n",
       "2015          -870368348  \n",
       "2006          -620170743  \n",
       "2000          -452631386  "
      ]
     },
     "metadata": {},
     "output_type": "display_data"
    },
    {
     "data": {
      "text/plain": [
       "2014"
      ]
     },
     "metadata": {},
     "output_type": "display_data"
    }
   ],
   "source": [
    "data_tmp = data[(data.production_companies.str.contains(\"Warner Bros\"))]\n",
    "\n",
    "display(data_tmp.groupby('release_year').sum().sort_values(by='revenue', ascending=False))\n",
    "\n",
    "answers['20'] = data_tmp.groupby('release_year').sum().sort_values(by='revenue', ascending=False).index[0]\n",
    "display(answers['20'])"
   ]
  },
  {
   "cell_type": "markdown",
   "metadata": {
    "colab_type": "text",
    "id": "8Im1S2HRVp_4"
   },
   "source": [
    "# 21. В каком месяце за все годы суммарно вышло больше всего фильмов?"
   ]
  },
  {
   "cell_type": "code",
   "execution_count": 227,
   "metadata": {
    "colab": {},
    "colab_type": "code",
    "id": "lev6TH7gVp_4"
   },
   "outputs": [
    {
     "data": {
      "text/plain": [
       "9     227\n",
       "12    190\n",
       "10    186\n",
       "8     161\n",
       "3     156\n",
       "4     149\n",
       "6     147\n",
       "11    146\n",
       "7     142\n",
       "5     140\n",
       "2     135\n",
       "1     110\n",
       "Name: month, dtype: int64"
      ]
     },
     "metadata": {},
     "output_type": "display_data"
    },
    {
     "data": {
      "text/plain": [
       "'9'"
      ]
     },
     "metadata": {},
     "output_type": "display_data"
    }
   ],
   "source": [
    "#add row month in data set with release month \n",
    "data['month'] = data['release_date'].apply(lambda data_str: data_str.split('/')[0])\n",
    "count_month = data.month.value_counts()\n",
    "\n",
    "display(count_month)\n",
    "\n",
    "answers['21'] = count_month.index[0]\n",
    "display(answers['21'])"
   ]
  },
  {
   "cell_type": "markdown",
   "metadata": {
    "colab_type": "text",
    "id": "uAJsZ_NeVp_7"
   },
   "source": [
    "# 22. Сколько суммарно вышло фильмов летом? (за июнь, июль, август)"
   ]
  },
  {
   "cell_type": "code",
   "execution_count": 169,
   "metadata": {
    "colab": {},
    "colab_type": "code",
    "id": "Aa-hEREoVp_8"
   },
   "outputs": [
    {
     "data": {
      "text/plain": [
       "450"
      ]
     },
     "metadata": {},
     "output_type": "display_data"
    },
    {
     "data": {
      "text/plain": [
       "450"
      ]
     },
     "metadata": {},
     "output_type": "display_data"
    }
   ],
   "source": [
    "date_month = data.release_date.apply(lambda x:x[0])\n",
    "#contains('6|7|8', regex=True) possible to do just for month with one digit from 2 till 9\n",
    "display(date_month.str.contains('6|7|8', regex=True).value_counts().loc[True])\n",
    "\n",
    "answers['22'] = date_month.str.contains('6|7|8', regex=True).value_counts().loc[True]\n",
    "display(answers['22'])"
   ]
  },
  {
   "cell_type": "markdown",
   "metadata": {
    "colab_type": "text",
    "id": "G94ppOY1VqAA"
   },
   "source": [
    "# 23. Для какого режиссера зима – самое продуктивное время года? "
   ]
  },
  {
   "cell_type": "code",
   "execution_count": 231,
   "metadata": {
    "colab": {},
    "colab_type": "code",
    "id": "RhNTsamuVqAB"
   },
   "outputs": [
    {
     "name": "stderr",
     "output_type": "stream",
     "text": [
      "C:\\Program Files (x86)\\Microsoft Visual Studio\\Shared\\Anaconda3_64\\lib\\site-packages\\ipykernel_launcher.py:1: UserWarning: This pattern has match groups. To actually get the groups, use str.extract.\n",
      "  \"\"\"Entry point for launching an IPython kernel.\n"
     ]
    },
    {
     "data": {
      "text/plain": [
       "Peter Jackson        7\n",
       "Clint Eastwood       6\n",
       "Steven Soderbergh    6\n",
       "Nancy Meyers         4\n",
       "Shawn Levy           4\n",
       "dtype: int64"
      ]
     },
     "metadata": {},
     "output_type": "display_data"
    },
    {
     "data": {
      "text/plain": [
       "'Peter Jackson'"
      ]
     },
     "metadata": {},
     "output_type": "display_data"
    }
   ],
   "source": [
    "#check reg.exp.\n",
    "data_tmp = data[data.release_date.str.contains('^(1|2|12)/\\d{1,2}/\\d{4}', regex=True)]\n",
    "#use func.  counter from step 14\n",
    "sum_gen=counter(data_tmp,'director')\n",
    "display(sum_gen[:5])\n",
    "\n",
    "answers['23'] = sum_gen[0:1].index[0]\n",
    "display(answers['23'])"
   ]
  },
  {
   "cell_type": "markdown",
   "metadata": {
    "colab_type": "text",
    "id": "RBo0JVjVVqAF"
   },
   "source": [
    "# 24. Какая студия дает самые длинные названия своим фильмам по количеству символов?"
   ]
  },
  {
   "cell_type": "code",
   "execution_count": 171,
   "metadata": {
    "colab": {},
    "colab_type": "code",
    "id": "QRGS8L0iVqAG"
   },
   "outputs": [
    {
     "data": {
      "text/plain": [
       "Four By Two Productions    83\n",
       "Jim Henson Company, The    59\n",
       "dtype: int64"
      ]
     },
     "metadata": {},
     "output_type": "display_data"
    },
    {
     "data": {
      "text/plain": [
       "'Four By Two Productions'"
      ]
     },
     "metadata": {},
     "output_type": "display_data"
    }
   ],
   "source": [
    "data['title_len'] = data['original_title'].apply(len)\n",
    "\n",
    "data_company = data.production_companies.str.cat(sep='|')\n",
    "data_company = pd.Series(data_company.split('|'))\n",
    "data_company = data_company.value_counts()\n",
    "\n",
    "for i in data_company.index:\n",
    "    data_company[i] = data['title_len'][data['production_companies'].map(lambda x: True if i in x else False)].mean()\n",
    "display(data_company.sort_values(ascending=False).head(2))\n",
    "\n",
    "answers['24'] = data_company.sort_values(ascending=False).index[0]\n",
    "display(answers['24'])"
   ]
  },
  {
   "cell_type": "markdown",
   "metadata": {
    "colab_type": "text",
    "id": "9G0hbvR7VqAK"
   },
   "source": [
    "# 25. Описание фильмов какой студии в среднем самые длинные по количеству слов?"
   ]
  },
  {
   "cell_type": "code",
   "execution_count": null,
   "metadata": {
    "colab": {},
    "colab_type": "code",
    "id": "Ge2GsLNxVqAK"
   },
   "outputs": [],
   "source": [
    "#row with len of thr words of overview\n",
    "data['overview_len'] = data.overview.str.split().apply(len)\n",
    "\n",
    "data_company = data.production_companies.str.cat(sep='|')\n",
    "data_company = pd.Series(data_company.split('|'))\n",
    "data_company = data_company.value_counts()\n",
    "\n",
    "for i in data_company.index:\n",
    "    data_company[i] = data['overview_len'][data['production_companies'].map(lambda x: True if i in x else False)].mean()\n",
    "display(data_company.sort_values(ascending=False).head(2))\n",
    "\n",
    "answers['25'] =data_company.sort_values(ascending=False).index[0]\n",
    "display(answers['25'])"
   ]
  },
  {
   "cell_type": "markdown",
   "metadata": {
    "colab_type": "text",
    "id": "FJ1AFt90VqAP"
   },
   "source": [
    "# 26. Какие фильмы входят в 1 процент лучших по рейтингу? \n",
    "по vote_average"
   ]
  },
  {
   "cell_type": "code",
   "execution_count": 173,
   "metadata": {
    "colab": {},
    "colab_type": "code",
    "id": "8qmJVq4CVqAQ"
   },
   "outputs": [
    {
     "data": {
      "text/plain": [
       "599                                   The Dark Knight\n",
       "118                                      Interstellar\n",
       "125                                The Imitation Game\n",
       "9                                          Inside Out\n",
       "34                                               Room\n",
       "1183                          The Wolf of Wall Street\n",
       "128                                         Gone Girl\n",
       "1191                                 12 Years a Slave\n",
       "119                           Guardians of the Galaxy\n",
       "1081    The Lord of the Rings: The Return of the King\n",
       "1800                                          Memento\n",
       "370                                         Inception\n",
       "872                                       The Pianist\n",
       "138                          The Grand Budapest Hotel\n",
       "1188                                              Her\n",
       "28                                          Spotlight\n",
       "124                                        Big Hero 6\n",
       "177                            The Fault in Our Stars\n",
       "863             The Lord of the Rings: The Two Towers\n",
       "Name: original_title, dtype: object"
      ]
     },
     "metadata": {},
     "output_type": "display_data"
    },
    {
     "data": {
      "text/plain": [
       "array(['The Dark Knight', 'Interstellar', 'The Imitation Game',\n",
       "       'Inside Out', 'Room', 'The Wolf of Wall Street', 'Gone Girl',\n",
       "       '12 Years a Slave', 'Guardians of the Galaxy',\n",
       "       'The Lord of the Rings: The Return of the King', 'Memento',\n",
       "       'Inception', 'The Pianist', 'The Grand Budapest Hotel', 'Her',\n",
       "       'Spotlight', 'Big Hero 6', 'The Fault in Our Stars',\n",
       "       'The Lord of the Rings: The Two Towers'], dtype=object)"
      ]
     },
     "metadata": {},
     "output_type": "display_data"
    }
   ],
   "source": [
    "data_sort = data[['vote_average', 'original_title']].sort_values(by = 'vote_average',ascending= False)\n",
    "\n",
    "data_best =data_sort[:round(len(data_sort )*0.01)]\n",
    "display(data_best.original_title)\n",
    "\n",
    "answers['26'] = data_best.original_title.values\n",
    "display(answers['26'])"
   ]
  },
  {
   "cell_type": "markdown",
   "metadata": {
    "colab_type": "text",
    "id": "MdXsUXbCVqAV"
   },
   "source": [
    "# 27. Какие актеры чаще всего снимаются в одном фильме вместе?\n"
   ]
  },
  {
   "cell_type": "code",
   "execution_count": 264,
   "metadata": {
    "colab_type": "text",
    "id": "4ymnxEVoVqAW"
   },
   "outputs": [
    {
     "data": {
      "text/plain": [
       "[(('Daniel Radcliffe', 'Rupert Grint'), 8),\n",
       " (('Daniel Radcliffe', 'Emma Watson'), 8),\n",
       " (('Rupert Grint', 'Emma Watson'), 7),\n",
       " (('Ben Stiller', 'Owen Wilson'), 6),\n",
       " (('Johnny Depp', 'Helena Bonham Carter'), 6)]"
      ]
     },
     "metadata": {},
     "output_type": "display_data"
    },
    {
     "data": {
      "text/plain": [
       "(('Daniel Radcliffe', 'Rupert Grint'), 8)"
      ]
     },
     "metadata": {},
     "output_type": "display_data"
    }
   ],
   "source": [
    "data['data_cast'] = data.cast.apply(lambda x: x.split('|'))\n",
    "\n",
    "cast_combi = {}\n",
    "\n",
    "for i in data['data_cast']:\n",
    "    for j in list(combinations(i, 2)):\n",
    "        if j in cast_combi: # is combination in list, so add 1\n",
    "            cast_combi[j] = cast_combi[j] + 1\n",
    "        else : \n",
    "            cast_combi[j] = 1\n",
    "\n",
    "#sort dictionary on descending of actor combinations     \n",
    "sorted_dict = sorted(cast_combi.items(), key=lambda item: item[1], reverse=True)\n",
    "display(sorted_dict[:5])\n",
    "\n",
    "answers ['27'] = sorted_dict[0]\n",
    "display(answers['27'])"
   ]
  },
  {
   "cell_type": "markdown",
   "metadata": {
    "colab_type": "text",
    "id": "U0nONFnGVqAX"
   },
   "source": [
    "# Submission"
   ]
  },
  {
   "cell_type": "code",
   "execution_count": 175,
   "metadata": {
    "colab": {},
    "colab_type": "code",
    "id": "IfcaRO9-VqAX",
    "outputId": "0f132912-32bb-4196-c98c-abfbc4ad5a5f"
   },
   "outputs": [
    {
     "data": {
      "text/plain": [
       "{'1': 'Pirates of the Caribbean: On Stranger Tides',\n",
       " '2': 'Gods and Generals',\n",
       " '3': 'Winnie the Pooh',\n",
       " '4': 109.6585494970884,\n",
       " '5': 107.0,\n",
       " '6': 'Avatar',\n",
       " '7': 'The Lone Ranger',\n",
       " '8': 1478,\n",
       " '9': 'The Dark Knight',\n",
       " '10': 'The Lone Ranger',\n",
       " '11': ('Drama', 782),\n",
       " '12': 'Drama',\n",
       " '13': 'Peter Jackson',\n",
       " '14': 'Robert Rodriguez',\n",
       " '15': 'Chris Hemsworth',\n",
       " '17': 'Action',\n",
       " '16': 'Matt Damon',\n",
       " '18': 'K-19: The Widowmaker',\n",
       " '19': 2015,\n",
       " '20': 2014,\n",
       " '21': '1',\n",
       " '22': 450,\n",
       " '23': 'Clint Eastwood',\n",
       " '24': 'Four By Two Productions',\n",
       " '25': 'Midnight Picture Show',\n",
       " '26': array(['The Dark Knight', 'Interstellar', 'The Imitation Game',\n",
       "        'Inside Out', 'Room', 'The Wolf of Wall Street', 'Gone Girl',\n",
       "        '12 Years a Slave', 'Guardians of the Galaxy',\n",
       "        'The Lord of the Rings: The Return of the King', 'Memento',\n",
       "        'Inception', 'The Pianist', 'The Grand Budapest Hotel', 'Her',\n",
       "        'Spotlight', 'Big Hero 6', 'The Fault in Our Stars',\n",
       "        'The Lord of the Rings: The Two Towers'], dtype=object),\n",
       " '27': (('Daniel Radcliffe', 'Rupert Grint'), 8)}"
      ]
     },
     "execution_count": 175,
     "metadata": {},
     "output_type": "execute_result"
    }
   ],
   "source": [
    "# в конце можно посмотреть свои ответы к каждому вопросу\n",
    "answers"
   ]
  },
  {
   "cell_type": "code",
   "execution_count": 176,
   "metadata": {
    "colab": {},
    "colab_type": "code",
    "id": "SiRmHPl8VqAd"
   },
   "outputs": [
    {
     "data": {
      "text/plain": [
       "27"
      ]
     },
     "execution_count": 176,
     "metadata": {},
     "output_type": "execute_result"
    }
   ],
   "source": [
    "# и убедиться что ни чего не пропустил)\n",
    "len(answers)"
   ]
  },
  {
   "cell_type": "code",
   "execution_count": 0,
   "metadata": {
    "colab": {},
    "colab_type": "code",
    "id": "Vwx3NrkSVqAl"
   },
   "outputs": [],
   "source": []
  }
 ],
 "metadata": {
  "colab": {
   "name": "Copy of [SF-DST] Movies IMBD v4.1 TEMPLATE.ipynb",
   "provenance": []
  },
  "kernelspec": {
   "display_name": "Python 3",
   "language": "python",
   "name": "python3"
  },
  "language_info": {
   "codemirror_mode": {
    "name": "ipython",
    "version": 3
   },
   "file_extension": ".py",
   "mimetype": "text/x-python",
   "name": "python",
   "nbconvert_exporter": "python",
   "pygments_lexer": "ipython3",
   "version": "3.6.5"
  }
 },
 "nbformat": 4,
 "nbformat_minor": 1
}
